{
 "cells": [
  {
   "cell_type": "code",
   "execution_count": 40,
   "id": "d4cd90e1",
   "metadata": {},
   "outputs": [],
   "source": [
    "import pandas as pd\n",
    "import matplotlib.pyplot as plt\n",
    "import os"
   ]
  },
  {
   "cell_type": "code",
   "execution_count": 24,
   "id": "3e679364",
   "metadata": {},
   "outputs": [],
   "source": [
    "name = \"202010-citibike-tripdata.csv/202010-citibike-tripdata.csv\"\n",
    "df = pd.read_csv(f\"../datalake/csv/{name}\")"
   ]
  },
  {
   "cell_type": "code",
   "execution_count": 27,
   "id": "599c084a",
   "metadata": {},
   "outputs": [
    {
     "data": {
      "text/html": [
       "<div>\n",
       "<style scoped>\n",
       "    .dataframe tbody tr th:only-of-type {\n",
       "        vertical-align: middle;\n",
       "    }\n",
       "\n",
       "    .dataframe tbody tr th {\n",
       "        vertical-align: top;\n",
       "    }\n",
       "\n",
       "    .dataframe thead th {\n",
       "        text-align: right;\n",
       "    }\n",
       "</style>\n",
       "<table border=\"1\" class=\"dataframe\">\n",
       "  <thead>\n",
       "    <tr style=\"text-align: right;\">\n",
       "      <th></th>\n",
       "      <th>tripduration</th>\n",
       "      <th>starttime</th>\n",
       "      <th>stoptime</th>\n",
       "      <th>start station id</th>\n",
       "      <th>start station name</th>\n",
       "      <th>start station latitude</th>\n",
       "      <th>start station longitude</th>\n",
       "      <th>end station id</th>\n",
       "      <th>end station name</th>\n",
       "      <th>end station latitude</th>\n",
       "      <th>end station longitude</th>\n",
       "      <th>bikeid</th>\n",
       "      <th>usertype</th>\n",
       "      <th>birth year</th>\n",
       "      <th>gender</th>\n",
       "    </tr>\n",
       "  </thead>\n",
       "  <tbody>\n",
       "    <tr>\n",
       "      <th>0</th>\n",
       "      <td>1403</td>\n",
       "      <td>2020-10-01 00:00:10.7870</td>\n",
       "      <td>2020-10-01 00:23:34.5400</td>\n",
       "      <td>224</td>\n",
       "      <td>Spruce St &amp; Nassau St</td>\n",
       "      <td>40.711464</td>\n",
       "      <td>-74.005524</td>\n",
       "      <td>3347</td>\n",
       "      <td>Van Brunt St &amp; Wolcott St</td>\n",
       "      <td>40.677343</td>\n",
       "      <td>-74.012751</td>\n",
       "      <td>39079</td>\n",
       "      <td>Subscriber</td>\n",
       "      <td>1995</td>\n",
       "      <td>1</td>\n",
       "    </tr>\n",
       "    <tr>\n",
       "      <th>1</th>\n",
       "      <td>462</td>\n",
       "      <td>2020-10-01 00:00:18.2390</td>\n",
       "      <td>2020-10-01 00:08:00.5710</td>\n",
       "      <td>3161</td>\n",
       "      <td>W 76 St &amp; Columbus Ave</td>\n",
       "      <td>40.780184</td>\n",
       "      <td>-73.977285</td>\n",
       "      <td>3158</td>\n",
       "      <td>W 63 St &amp; Broadway</td>\n",
       "      <td>40.771639</td>\n",
       "      <td>-73.982614</td>\n",
       "      <td>41267</td>\n",
       "      <td>Subscriber</td>\n",
       "      <td>1998</td>\n",
       "      <td>2</td>\n",
       "    </tr>\n",
       "    <tr>\n",
       "      <th>2</th>\n",
       "      <td>770</td>\n",
       "      <td>2020-10-01 00:00:21.3070</td>\n",
       "      <td>2020-10-01 00:13:12.0840</td>\n",
       "      <td>354</td>\n",
       "      <td>Emerson Pl &amp; Myrtle Ave</td>\n",
       "      <td>40.693631</td>\n",
       "      <td>-73.962236</td>\n",
       "      <td>3761</td>\n",
       "      <td>Cedar St &amp; Myrtle Ave</td>\n",
       "      <td>40.697842</td>\n",
       "      <td>-73.926241</td>\n",
       "      <td>47398</td>\n",
       "      <td>Customer</td>\n",
       "      <td>1996</td>\n",
       "      <td>1</td>\n",
       "    </tr>\n",
       "    <tr>\n",
       "      <th>3</th>\n",
       "      <td>233</td>\n",
       "      <td>2020-10-01 00:00:25.0080</td>\n",
       "      <td>2020-10-01 00:04:18.6410</td>\n",
       "      <td>3141</td>\n",
       "      <td>1 Ave &amp; E 68 St</td>\n",
       "      <td>40.765005</td>\n",
       "      <td>-73.958185</td>\n",
       "      <td>464</td>\n",
       "      <td>E 56 St &amp; 3 Ave</td>\n",
       "      <td>40.759345</td>\n",
       "      <td>-73.967597</td>\n",
       "      <td>36482</td>\n",
       "      <td>Subscriber</td>\n",
       "      <td>1993</td>\n",
       "      <td>1</td>\n",
       "    </tr>\n",
       "    <tr>\n",
       "      <th>4</th>\n",
       "      <td>126</td>\n",
       "      <td>2020-10-01 00:00:25.3100</td>\n",
       "      <td>2020-10-01 00:02:32.1330</td>\n",
       "      <td>335</td>\n",
       "      <td>Washington Pl &amp; Broadway</td>\n",
       "      <td>40.729039</td>\n",
       "      <td>-73.994046</td>\n",
       "      <td>229</td>\n",
       "      <td>Great Jones St</td>\n",
       "      <td>40.727434</td>\n",
       "      <td>-73.993790</td>\n",
       "      <td>45319</td>\n",
       "      <td>Subscriber</td>\n",
       "      <td>1989</td>\n",
       "      <td>1</td>\n",
       "    </tr>\n",
       "  </tbody>\n",
       "</table>\n",
       "</div>"
      ],
      "text/plain": [
       "   tripduration                 starttime                  stoptime  \\\n",
       "0          1403  2020-10-01 00:00:10.7870  2020-10-01 00:23:34.5400   \n",
       "1           462  2020-10-01 00:00:18.2390  2020-10-01 00:08:00.5710   \n",
       "2           770  2020-10-01 00:00:21.3070  2020-10-01 00:13:12.0840   \n",
       "3           233  2020-10-01 00:00:25.0080  2020-10-01 00:04:18.6410   \n",
       "4           126  2020-10-01 00:00:25.3100  2020-10-01 00:02:32.1330   \n",
       "\n",
       "   start station id        start station name  start station latitude  \\\n",
       "0               224     Spruce St & Nassau St               40.711464   \n",
       "1              3161    W 76 St & Columbus Ave               40.780184   \n",
       "2               354   Emerson Pl & Myrtle Ave               40.693631   \n",
       "3              3141           1 Ave & E 68 St               40.765005   \n",
       "4               335  Washington Pl & Broadway               40.729039   \n",
       "\n",
       "   start station longitude  end station id           end station name  \\\n",
       "0               -74.005524            3347  Van Brunt St & Wolcott St   \n",
       "1               -73.977285            3158         W 63 St & Broadway   \n",
       "2               -73.962236            3761      Cedar St & Myrtle Ave   \n",
       "3               -73.958185             464            E 56 St & 3 Ave   \n",
       "4               -73.994046             229             Great Jones St   \n",
       "\n",
       "   end station latitude  end station longitude  bikeid    usertype  \\\n",
       "0             40.677343             -74.012751   39079  Subscriber   \n",
       "1             40.771639             -73.982614   41267  Subscriber   \n",
       "2             40.697842             -73.926241   47398    Customer   \n",
       "3             40.759345             -73.967597   36482  Subscriber   \n",
       "4             40.727434             -73.993790   45319  Subscriber   \n",
       "\n",
       "   birth year  gender  \n",
       "0        1995       1  \n",
       "1        1998       2  \n",
       "2        1996       1  \n",
       "3        1993       1  \n",
       "4        1989       1  "
      ]
     },
     "execution_count": 27,
     "metadata": {},
     "output_type": "execute_result"
    }
   ],
   "source": [
    "df.head()"
   ]
  },
  {
   "cell_type": "markdown",
   "id": "0c1f432b",
   "metadata": {},
   "source": [
    "## Unique values"
   ]
  },
  {
   "cell_type": "code",
   "execution_count": 17,
   "id": "a3f8282f",
   "metadata": {},
   "outputs": [
    {
     "data": {
      "text/plain": [
       "tripduration                 int64\n",
       "starttime                   object\n",
       "stoptime                    object\n",
       "start station id             int64\n",
       "start station name          object\n",
       "start station latitude     float64\n",
       "start station longitude    float64\n",
       "end station id               int64\n",
       "end station name            object\n",
       "end station latitude       float64\n",
       "end station longitude      float64\n",
       "bikeid                       int64\n",
       "usertype                    object\n",
       "birth year                   int64\n",
       "gender                       int64\n",
       "dtype: object"
      ]
     },
     "execution_count": 17,
     "metadata": {},
     "output_type": "execute_result"
    }
   ],
   "source": [
    "df.apply(lambda x: x.dtype)"
   ]
  },
  {
   "cell_type": "code",
   "execution_count": 26,
   "id": "ea87d1f7",
   "metadata": {},
   "outputs": [
    {
     "data": {
      "text/plain": [
       "array([1, 2, 0])"
      ]
     },
     "execution_count": 26,
     "metadata": {},
     "output_type": "execute_result"
    }
   ],
   "source": [
    "df[\"gender\"].unique()"
   ]
  },
  {
   "cell_type": "code",
   "execution_count": 35,
   "id": "c8aa7aa1",
   "metadata": {},
   "outputs": [
    {
     "name": "stdout",
     "output_type": "stream",
     "text": [
      "72\n",
      "72\n"
     ]
    }
   ],
   "source": [
    "print(df[\"start station id\"].min())\n",
    "print(df[\"end station id\"].min())"
   ]
  },
  {
   "cell_type": "code",
   "execution_count": 36,
   "id": "19aaaef5",
   "metadata": {},
   "outputs": [
    {
     "name": "stdout",
     "output_type": "stream",
     "text": [
      "4230\n",
      "4230\n"
     ]
    }
   ],
   "source": [
    "print(df[\"start station id\"].max())\n",
    "print(df[\"end station id\"].max())"
   ]
  },
  {
   "cell_type": "code",
   "execution_count": 51,
   "id": "4b17baf4",
   "metadata": {},
   "outputs": [
    {
     "name": "stdout",
     "output_type": "stream",
     "text": [
      "14529\n",
      "48703\n"
     ]
    }
   ],
   "source": [
    "print(df[\"bikeid\"].min())\n",
    "print(df[\"bikeid\"].max())"
   ]
  },
  {
   "cell_type": "code",
   "execution_count": 46,
   "id": "d71eaec0",
   "metadata": {},
   "outputs": [
    {
     "data": {
      "text/plain": [
       "W 21 St & 6 Ave             12105\n",
       "1 Ave & E 68 St             11914\n",
       "E 17 St & Broadway          10863\n",
       "West St & Chambers St       10769\n",
       "E 13 St & Avenue A          10531\n",
       "                            ...  \n",
       "Montgomery St                   1\n",
       "Charlotte St & Boston Rd        1\n",
       "Paulus Hook                     1\n",
       "Glenwood Ave                    1\n",
       "Garrison Ave & Manida St        1\n",
       "Name: end station name, Length: 1163, dtype: int64"
      ]
     },
     "execution_count": 46,
     "metadata": {},
     "output_type": "execute_result"
    }
   ],
   "source": [
    "df[\"end station name\"].value_counts()"
   ]
  },
  {
   "cell_type": "code",
   "execution_count": 48,
   "id": "d2b180f6",
   "metadata": {},
   "outputs": [
    {
     "data": {
      "text/plain": [
       "1969    263400\n",
       "1990    112907\n",
       "1992     94740\n",
       "1991     93233\n",
       "1993     88255\n",
       "         ...  \n",
       "1873         2\n",
       "1927         2\n",
       "1902         1\n",
       "1905         1\n",
       "1920         1\n",
       "Name: birth year, Length: 107, dtype: int64"
      ]
     },
     "execution_count": 48,
     "metadata": {},
     "output_type": "execute_result"
    }
   ],
   "source": [
    "df[\"birth year\"].value_counts()"
   ]
  },
  {
   "cell_type": "code",
   "execution_count": 50,
   "id": "777025fd",
   "metadata": {},
   "outputs": [
    {
     "data": {
      "text/plain": [
       "array(['Subscriber', 'Customer'], dtype=object)"
      ]
     },
     "execution_count": 50,
     "metadata": {},
     "output_type": "execute_result"
    }
   ],
   "source": [
    "df[\"usertype\"].unique()"
   ]
  },
  {
   "cell_type": "markdown",
   "id": "c86d481d",
   "metadata": {},
   "source": [
    "TODO:\n",
    "- Explore `birth year` for inconsistencies\n"
   ]
  },
  {
   "cell_type": "markdown",
   "id": "8e1bd703",
   "metadata": {},
   "source": [
    "## Types"
   ]
  },
  {
   "cell_type": "markdown",
   "id": "87da5db8",
   "metadata": {},
   "source": [
    "- gender: ENUM\n",
    "- tripduration: INTEGER\n",
    "- bike id: INTEGER\n",
    "- start station id: INTEGER\n",
    "- end station id: INTEGER\n",
    "- end station name: STRING\n",
    "- start station latitude: FLOAT\n",
    "- start station longitude: FLOAT\n",
    "- end station latitude: FLOAT\n",
    "- end station longitude: FLOAT\n",
    "- birth year: INTEGER\n",
    "- usertype: ENUM\n",
    "- starttime: DATE\n",
    "- endtime: DATE\n"
   ]
  },
  {
   "cell_type": "markdown",
   "id": "7f3b87b2",
   "metadata": {},
   "source": [
    "## Null values"
   ]
  },
  {
   "cell_type": "code",
   "execution_count": 16,
   "id": "6d30d6df",
   "metadata": {},
   "outputs": [
    {
     "data": {
      "text/plain": [
       "tripduration               0\n",
       "starttime                  0\n",
       "stoptime                   0\n",
       "start station id           0\n",
       "start station name         0\n",
       "start station latitude     0\n",
       "start station longitude    0\n",
       "end station id             0\n",
       "end station name           0\n",
       "end station latitude       0\n",
       "end station longitude      0\n",
       "bikeid                     0\n",
       "usertype                   0\n",
       "birth year                 0\n",
       "gender                     0\n",
       "dtype: int64"
      ]
     },
     "execution_count": 16,
     "metadata": {},
     "output_type": "execute_result"
    }
   ],
   "source": [
    "df.apply(lambda x: x.isnull().sum())"
   ]
  },
  {
   "cell_type": "markdown",
   "id": "500b2c19",
   "metadata": {},
   "source": []
  }
 ],
 "metadata": {
  "kernelspec": {
   "display_name": "Python 3",
   "language": "python",
   "name": "python3"
  },
  "language_info": {
   "codemirror_mode": {
    "name": "ipython",
    "version": 3
   },
   "file_extension": ".py",
   "mimetype": "text/x-python",
   "name": "python",
   "nbconvert_exporter": "python",
   "pygments_lexer": "ipython3",
   "version": "3.8.5"
  }
 },
 "nbformat": 4,
 "nbformat_minor": 5
}
